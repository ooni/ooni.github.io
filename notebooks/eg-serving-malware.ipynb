{
 "cells": [
  {
   "cell_type": "markdown",
   "metadata": {},
   "source": [
    "# Egypt serving malware"
   ]
  },
  {
   "cell_type": "code",
   "execution_count": 1,
   "metadata": {
    "collapsed": true
   },
   "outputs": [],
   "source": [
    "import pandas as pd\n",
    "import numpy as np\n",
    "import functools\n",
    "from matplotlib import pylab as plt"
   ]
  },
  {
   "cell_type": "code",
   "execution_count": 2,
   "metadata": {
    "collapsed": true
   },
   "outputs": [],
   "source": [
    "%matplotlib inline"
   ]
  },
  {
   "cell_type": "markdown",
   "metadata": {},
   "source": [
    "## Data massage"
   ]
  },
  {
   "cell_type": "code",
   "execution_count": 3,
   "metadata": {
    "collapsed": false
   },
   "outputs": [],
   "source": [
    "!tshark -2 -r mads-141.0.174.38.pcap -Tfields \\\n",
    "    -eframe.time_epoch \\\n",
    "    -eip.id -e ip.ttl -e ip.dst \\\n",
    "    -etcp.srcport -etcp.dstport -etcp.len -etcp.stream -etcp.seq -etcp.ack -etcp.flags.str -etcp.window_size \\\n",
    "    -etcp.options.timestamp.tsval -etcp.options.timestamp.tsecr \\\n",
    "    -etcp.analysis.initial_rtt -etcp.analysis.ack_rtt \\\n",
    "    -ehttp.host -ehttp.response.code -ehttp.user_agent -ehttp.location \\\n",
    "    > mads-141.0.174.38.txt"
   ]
  },
  {
   "cell_type": "code",
   "execution_count": 4,
   "metadata": {
    "collapsed": true
   },
   "outputs": [],
   "source": [
    "data = pd.read_csv('./mads-141.0.174.38.txt', delimiter='\\t',\n",
    "            names=\n",
    "                ('time_epoch id ttl dst srcport dstport len stream seq ack flags window_size '\n",
    "                'tsval tsecr initial_rtt ack_rtt host code user_agent location').split())"
   ]
  },
  {
   "cell_type": "code",
   "execution_count": 5,
   "metadata": {
    "collapsed": false
   },
   "outputs": [],
   "source": [
    "data['intid'] = data.id.apply(functools.partial(int, base=16))\n",
    "data.time_epoch -= data.time_epoch.min()"
   ]
  },
  {
   "cell_type": "code",
   "execution_count": 6,
   "metadata": {
    "collapsed": false
   },
   "outputs": [
    {
     "data": {
      "text/html": [
       "<div>\n",
       "<table border=\"1\" class=\"dataframe\">\n",
       "  <thead>\n",
       "    <tr style=\"text-align: right;\">\n",
       "      <th></th>\n",
       "      <th>2072</th>\n",
       "    </tr>\n",
       "  </thead>\n",
       "  <tbody>\n",
       "    <tr>\n",
       "      <th>time_epoch</th>\n",
       "      <td>2351.17</td>\n",
       "    </tr>\n",
       "    <tr>\n",
       "      <th>id</th>\n",
       "      <td>0x00006818</td>\n",
       "    </tr>\n",
       "    <tr>\n",
       "      <th>ttl</th>\n",
       "      <td>64</td>\n",
       "    </tr>\n",
       "    <tr>\n",
       "      <th>dst</th>\n",
       "      <td>141.0.174.38</td>\n",
       "    </tr>\n",
       "    <tr>\n",
       "      <th>srcport</th>\n",
       "      <td>37546</td>\n",
       "    </tr>\n",
       "    <tr>\n",
       "      <th>dstport</th>\n",
       "      <td>80</td>\n",
       "    </tr>\n",
       "    <tr>\n",
       "      <th>len</th>\n",
       "      <td>0</td>\n",
       "    </tr>\n",
       "    <tr>\n",
       "      <th>stream</th>\n",
       "      <td>211</td>\n",
       "    </tr>\n",
       "    <tr>\n",
       "      <th>seq</th>\n",
       "      <td>126</td>\n",
       "    </tr>\n",
       "    <tr>\n",
       "      <th>ack</th>\n",
       "      <td>414</td>\n",
       "    </tr>\n",
       "    <tr>\n",
       "      <th>flags</th>\n",
       "      <td>*******A****</td>\n",
       "    </tr>\n",
       "    <tr>\n",
       "      <th>window_size</th>\n",
       "      <td>30336</td>\n",
       "    </tr>\n",
       "    <tr>\n",
       "      <th>tsval</th>\n",
       "      <td>945408</td>\n",
       "    </tr>\n",
       "    <tr>\n",
       "      <th>tsecr</th>\n",
       "      <td>3.10169e+09</td>\n",
       "    </tr>\n",
       "    <tr>\n",
       "      <th>initial_rtt</th>\n",
       "      <td>0.091312</td>\n",
       "    </tr>\n",
       "    <tr>\n",
       "      <th>ack_rtt</th>\n",
       "      <td>2.5e-05</td>\n",
       "    </tr>\n",
       "    <tr>\n",
       "      <th>host</th>\n",
       "      <td>NaN</td>\n",
       "    </tr>\n",
       "    <tr>\n",
       "      <th>code</th>\n",
       "      <td>NaN</td>\n",
       "    </tr>\n",
       "    <tr>\n",
       "      <th>user_agent</th>\n",
       "      <td>NaN</td>\n",
       "    </tr>\n",
       "    <tr>\n",
       "      <th>location</th>\n",
       "      <td>NaN</td>\n",
       "    </tr>\n",
       "    <tr>\n",
       "      <th>intid</th>\n",
       "      <td>26648</td>\n",
       "    </tr>\n",
       "  </tbody>\n",
       "</table>\n",
       "</div>"
      ],
      "text/plain": [
       "                     2072\n",
       "time_epoch        2351.17\n",
       "id             0x00006818\n",
       "ttl                    64\n",
       "dst          141.0.174.38\n",
       "srcport             37546\n",
       "dstport                80\n",
       "len                     0\n",
       "stream                211\n",
       "seq                   126\n",
       "ack                   414\n",
       "flags        *******A****\n",
       "window_size         30336\n",
       "tsval              945408\n",
       "tsecr         3.10169e+09\n",
       "initial_rtt      0.091312\n",
       "ack_rtt           2.5e-05\n",
       "host                  NaN\n",
       "code                  NaN\n",
       "user_agent            NaN\n",
       "location              NaN\n",
       "intid               26648"
      ]
     },
     "execution_count": 6,
     "metadata": {},
     "output_type": "execute_result"
    }
   ],
   "source": [
    "data.sample(1).T"
   ]
  },
  {
   "cell_type": "code",
   "execution_count": 7,
   "metadata": {
    "collapsed": false
   },
   "outputs": [
    {
     "data": {
      "text/plain": [
       "494"
      ]
     },
     "execution_count": 7,
     "metadata": {},
     "output_type": "execute_result"
    }
   ],
   "source": [
    "len(data.stream.unique())"
   ]
  },
  {
   "cell_type": "code",
   "execution_count": 8,
   "metadata": {
    "collapsed": false
   },
   "outputs": [
    {
     "data": {
      "text/plain": [
       "xnxx.com        493\n",
       "www.xnxx.com      1\n",
       "Name: host, dtype: int64"
      ]
     },
     "execution_count": 8,
     "metadata": {},
     "output_type": "execute_result"
    }
   ],
   "source": [
    "data.host.value_counts()"
   ]
  },
  {
   "cell_type": "markdown",
   "metadata": {},
   "source": [
    "`www.xnxx.com` stream is not really interesting as it's just a single webpage that occasionally hit the dataset."
   ]
  },
  {
   "cell_type": "code",
   "execution_count": 9,
   "metadata": {
    "collapsed": false
   },
   "outputs": [
    {
     "data": {
      "text/plain": [
       "http://www.xnxx.com/                 477\n",
       "http://marketing-sv.com/mads.html      6\n",
       "Name: location, dtype: int64"
      ]
     },
     "execution_count": 9,
     "metadata": {},
     "output_type": "execute_result"
    }
   ],
   "source": [
    "data.location.value_counts()"
   ]
  },
  {
   "cell_type": "markdown",
   "metadata": {},
   "source": [
    "There are three different sorts of streams in the dataset. \n",
    "*Good* streams get correct redirect, *bad* streams get injection, *ugly* streams get no redirect at all."
   ]
  },
  {
   "cell_type": "code",
   "execution_count": 10,
   "metadata": {
    "collapsed": false
   },
   "outputs": [
    {
     "name": "stdout",
     "output_type": "stream",
     "text": [
      "Bad: [117, 268, 274, 278, 287, 294]\n",
      "Ugly: [110, 116, 121, 269, 279, 281, 282, 291, 292, 296]\n"
     ]
    }
   ],
   "source": [
    "s_good = set(data[data.location == 'http://www.xnxx.com/'].stream)\n",
    "s_bad = set(data[data.location == 'http://marketing-sv.com/mads.html'].stream)\n",
    "s_ugly = set(data[data.host == 'xnxx.com'].stream) - set(data[~data.location.isnull()].stream)\n",
    "print 'Bad:', sorted(s_bad)\n",
    "print 'Ugly:', sorted(s_ugly)"
   ]
  },
  {
   "cell_type": "markdown",
   "metadata": {},
   "source": [
    "## RTT to HTTP response for *good* & *bad* streams"
   ]
  },
  {
   "cell_type": "code",
   "execution_count": 11,
   "metadata": {
    "collapsed": false
   },
   "outputs": [
    {
     "data": {
      "image/png": "[encoded data removed]",
      "text/plain": [
       "<matplotlib.figure.Figure at 0x7f951152b5d0>"
      ]
     },
     "metadata": {},
     "output_type": "display_data"
    }
   ],
   "source": [
    "data[(data.stream.isin(s_good)) & (~data.code.isnull())].ack_rtt.hist(color='green', normed=True)\n",
    "data[(data.stream.isin(s_bad)) & (~data.code.isnull())].ack_rtt.hist(color='red', normed=True)\n",
    "plt.xlabel('RTT, s'); plt.ylabel('Density');"
   ]
  },
  {
   "cell_type": "markdown",
   "metadata": {},
   "source": [
    "There are not so much streams outside of 250ms range, so let's look at high-res histograms at that range."
   ]
  },
  {
   "cell_type": "code",
   "execution_count": 12,
   "metadata": {
    "collapsed": false
   },
   "outputs": [
    {
     "data": {
      "image/png": "[encoded data removed]",
      "text/plain": [
       "<matplotlib.figure.Figure at 0x7f94e61eb550>"
      ]
     },
     "metadata": {},
     "output_type": "display_data"
    }
   ],
   "source": [
    "data[(data.stream.isin(s_good)) & (~data.code.isnull())].ack_rtt.hist(bins=np.linspace(0, 0.25, 25), color='green')\n",
    "plt.xlabel('RTT, s'); plt.ylabel('Count');"
   ]
  },
  {
   "cell_type": "code",
   "execution_count": 13,
   "metadata": {
    "collapsed": false
   },
   "outputs": [
    {
     "data": {
      "image/png": "[encoded data removed]",
      "text/plain": [
       "<matplotlib.figure.Figure at 0x7f94e6a6d190>"
      ]
     },
     "metadata": {},
     "output_type": "display_data"
    }
   ],
   "source": [
    "data[(data.stream.isin(s_bad)) & (~data.code.isnull())].ack_rtt.hist(bins=np.linspace(0, 0.25, 25), color='red')\n",
    "plt.xlabel('RTT, s'); plt.ylabel('Count');"
   ]
  },
  {
   "cell_type": "markdown",
   "metadata": {},
   "source": [
    "We have only six samples of injected redirects, but five of these samples have significantly lower RTT than the usual RTT of http response. The ~45ms RTT corresponds well to the latency of last-mile ADSL link that was used during this analysis, so it is close to latency to get a packet from ISP's network."
   ]
  },
  {
   "cell_type": "markdown",
   "metadata": {},
   "source": [
    "## Let the good streams roll"
   ]
  },
  {
   "cell_type": "code",
   "execution_count": 14,
   "metadata": {
    "collapsed": false
   },
   "outputs": [
    {
     "data": {
      "text/plain": [
       "(0, 21)"
      ]
     },
     "execution_count": 14,
     "metadata": {},
     "output_type": "execute_result"
    }
   ],
   "source": [
    "d_good = data[data.stream.isin(s_good) & (data.srcport == 80)]\n",
    "d_good[d_good.tsval.isnull()].shape"
   ]
  },
  {
   "cell_type": "markdown",
   "metadata": {},
   "source": [
    "So, good data from server **always** has TCP timestamp, there are no rows in the slice."
   ]
  },
  {
   "cell_type": "code",
   "execution_count": 15,
   "metadata": {
    "collapsed": false
   },
   "outputs": [
    {
     "data": {
      "text/plain": [
       "54    1447\n",
       "Name: ttl, dtype: int64"
      ]
     },
     "execution_count": 15,
     "metadata": {},
     "output_type": "execute_result"
    }
   ],
   "source": [
    "d_good.ttl.value_counts()"
   ]
  },
  {
   "cell_type": "markdown",
   "metadata": {},
   "source": [
    "So, good data from server **always** has `TTL=54`.\n",
    "\n",
    "Let's look at [IP fragment ID](https://en.wikipedia.org/wiki/IPv4#Identification) field:"
   ]
  },
  {
   "cell_type": "code",
   "execution_count": 16,
   "metadata": {
    "collapsed": false
   },
   "outputs": [
    {
     "data": {
      "image/png": "[encoded data removed]",
      "text/plain": [
       "<matplotlib.figure.Figure at 0x7f94e62325d0>"
      ]
     },
     "metadata": {},
     "output_type": "display_data"
    }
   ],
   "source": [
    "dsa = d_good[d_good.flags == '*******A**S*']\n",
    "plt.scatter(dsa.time_epoch, dsa.intid, marker='.')\n",
    "plt.xlabel('Time since 1st packet, s'); plt.ylabel('IP ID')\n",
    "plt.title('IP ID for SYN-ACK packets from server');"
   ]
  },
  {
   "cell_type": "code",
   "execution_count": 17,
   "metadata": {
    "collapsed": false
   },
   "outputs": [
    {
     "name": "stdout",
     "output_type": "stream",
     "text": [
      "Min/Max IP ID observed for non-SYN-ACK packets: 79 65340\n"
     ]
    },
    {
     "data": {
      "image/png": "[encoded data removed]",
      "text/plain": [
       "<matplotlib.figure.Figure at 0x7f94e3effad0>"
      ]
     },
     "metadata": {},
     "output_type": "display_data"
    }
   ],
   "source": [
    "dsa = d_good[d_good.flags != '*******A**S*']\n",
    "\n",
    "fig = plt.figure(); fig.set_figwidth(15); fig.set_figheight(3)\n",
    "\n",
    "ax = fig.add_subplot(1, 2, 1)\n",
    "ax.scatter(dsa.time_epoch, dsa.intid, marker='.')\n",
    "ax.set_xlabel('Time since 1st packet, s'); ax.set_ylabel('IP frag. ID')\n",
    "ax.set_title('IP ID for non-SYN-ACK packets from server');\n",
    "\n",
    "ax = fig.add_subplot(1, 2, 2)\n",
    "dsa.intid.hist(bins=32, ax=ax)\n",
    "ax.set_xlim(0, 2**16)\n",
    "ax.set_xlabel('IP frag. ID'); ax.set_ylabel('Packets')\n",
    "ax.set_title('IP ID for non-SYN-ACK packets from server');\n",
    "\n",
    "print 'Min/Max IP ID observed for non-SYN-ACK packets:', dsa.intid.min(), dsa.intid.max()"
   ]
  },
  {
   "cell_type": "markdown",
   "metadata": {},
   "source": [
    "Good server replies with `IP-ID=0` in `SYN-ACK` and almost never has `IP-ID=0` in other packets, IP-ID is rather random for other packets."
   ]
  },
  {
   "cell_type": "code",
   "execution_count": 18,
   "metadata": {
    "collapsed": false
   },
   "outputs": [
    {
     "data": {
      "image/png": "[encoded data removed]",
      "text/plain": [
       "<matplotlib.figure.Figure at 0x7f94e3da15d0>"
      ]
     },
     "metadata": {},
     "output_type": "display_data"
    }
   ],
   "source": [
    "plt.scatter(d_good.time_epoch, d_good.window_size)\n",
    "plt.xlabel('Time since 1st packet, s'); plt.ylabel('TCP Window, bytes');\n",
    "plt.title('TCP Window announced by server');"
   ]
  },
  {
   "cell_type": "markdown",
   "metadata": {},
   "source": [
    "Good server has window size in 25k…31k range (scaling is applied)."
   ]
  },
  {
   "cell_type": "markdown",
   "metadata": {},
   "source": [
    "## Bisect bad streams one-by-one"
   ]
  },
  {
   "cell_type": "code",
   "execution_count": 19,
   "metadata": {
    "collapsed": false
   },
   "outputs": [
    {
     "name": "stdout",
     "output_type": "stream",
     "text": [
      "[117, 268, 274, 278, 287, 294]\n"
     ]
    }
   ],
   "source": [
    "print sorted(s_bad)"
   ]
  },
  {
   "cell_type": "code",
   "execution_count": 20,
   "metadata": {
    "collapsed": false
   },
   "outputs": [
    {
     "data": {
      "text/html": [
       "<div>\n",
       "<table border=\"1\" class=\"dataframe\">\n",
       "  <thead>\n",
       "    <tr style=\"text-align: right;\">\n",
       "      <th></th>\n",
       "      <th>time_epoch</th>\n",
       "      <th>stream</th>\n",
       "      <th>id</th>\n",
       "      <th>ttl</th>\n",
       "      <th>len</th>\n",
       "      <th>seq</th>\n",
       "      <th>ack</th>\n",
       "      <th>flags</th>\n",
       "      <th>window_size</th>\n",
       "      <th>tsval</th>\n",
       "      <th>ack_rtt</th>\n",
       "    </tr>\n",
       "  </thead>\n",
       "  <tbody>\n",
       "    <tr>\n",
       "      <th>1188</th>\n",
       "      <td>1589.229151</td>\n",
       "      <td>117</td>\n",
       "      <td>0x00000000</td>\n",
       "      <td>54</td>\n",
       "      <td>0</td>\n",
       "      <td>0</td>\n",
       "      <td>1</td>\n",
       "      <td>*******A**S*</td>\n",
       "      <td>28960</td>\n",
       "      <td>3.100932e+09</td>\n",
       "      <td>0.103577</td>\n",
       "    </tr>\n",
       "    <tr>\n",
       "      <th>1191</th>\n",
       "      <td>1589.274511</td>\n",
       "      <td>117</td>\n",
       "      <td>0x00003412</td>\n",
       "      <td>59</td>\n",
       "      <td>99</td>\n",
       "      <td>1</td>\n",
       "      <td>213</td>\n",
       "      <td>*******A***F</td>\n",
       "      <td>513920</td>\n",
       "      <td>NaN</td>\n",
       "      <td>0.045109</td>\n",
       "    </tr>\n",
       "    <tr>\n",
       "      <th>1193</th>\n",
       "      <td>1589.374932</td>\n",
       "      <td>117</td>\n",
       "      <td>0x00003412</td>\n",
       "      <td>59</td>\n",
       "      <td>0</td>\n",
       "      <td>101</td>\n",
       "      <td>214</td>\n",
       "      <td>*******A****</td>\n",
       "      <td>513920</td>\n",
       "      <td>NaN</td>\n",
       "      <td>0.099951</td>\n",
       "    </tr>\n",
       "    <tr>\n",
       "      <th>1226</th>\n",
       "      <td>1709.330761</td>\n",
       "      <td>117</td>\n",
       "      <td>0x00003f9c</td>\n",
       "      <td>54</td>\n",
       "      <td>212</td>\n",
       "      <td>1</td>\n",
       "      <td>1</td>\n",
       "      <td>*******A***F</td>\n",
       "      <td>26000</td>\n",
       "      <td>3.101052e+09</td>\n",
       "      <td>NaN</td>\n",
       "    </tr>\n",
       "    <tr>\n",
       "      <th>2583</th>\n",
       "      <td>2705.941551</td>\n",
       "      <td>268</td>\n",
       "      <td>0x00000000</td>\n",
       "      <td>54</td>\n",
       "      <td>0</td>\n",
       "      <td>0</td>\n",
       "      <td>1</td>\n",
       "      <td>*******A**S*</td>\n",
       "      <td>28960</td>\n",
       "      <td>3.102049e+09</td>\n",
       "      <td>0.110307</td>\n",
       "    </tr>\n",
       "    <tr>\n",
       "      <th>2586</th>\n",
       "      <td>2705.987294</td>\n",
       "      <td>268</td>\n",
       "      <td>0x00003412</td>\n",
       "      <td>59</td>\n",
       "      <td>99</td>\n",
       "      <td>1</td>\n",
       "      <td>248</td>\n",
       "      <td>*******A***F</td>\n",
       "      <td>513920</td>\n",
       "      <td>NaN</td>\n",
       "      <td>0.045296</td>\n",
       "    </tr>\n",
       "    <tr>\n",
       "      <th>2588</th>\n",
       "      <td>2706.086246</td>\n",
       "      <td>268</td>\n",
       "      <td>0x00003412</td>\n",
       "      <td>59</td>\n",
       "      <td>0</td>\n",
       "      <td>101</td>\n",
       "      <td>249</td>\n",
       "      <td>*******A****</td>\n",
       "      <td>513920</td>\n",
       "      <td>NaN</td>\n",
       "      <td>0.097518</td>\n",
       "    </tr>\n",
       "    <tr>\n",
       "      <th>2655</th>\n",
       "      <td>2826.044916</td>\n",
       "      <td>268</td>\n",
       "      <td>0x0000ee27</td>\n",
       "      <td>54</td>\n",
       "      <td>212</td>\n",
       "      <td>1</td>\n",
       "      <td>1</td>\n",
       "      <td>*******A***F</td>\n",
       "      <td>26000</td>\n",
       "      <td>3.102169e+09</td>\n",
       "      <td>NaN</td>\n",
       "    </tr>\n",
       "    <tr>\n",
       "      <th>2649</th>\n",
       "      <td>2816.015924</td>\n",
       "      <td>274</td>\n",
       "      <td>0x00000000</td>\n",
       "      <td>54</td>\n",
       "      <td>0</td>\n",
       "      <td>0</td>\n",
       "      <td>1</td>\n",
       "      <td>*******A**S*</td>\n",
       "      <td>28960</td>\n",
       "      <td>3.102159e+09</td>\n",
       "      <td>0.103654</td>\n",
       "    </tr>\n",
       "    <tr>\n",
       "      <th>2652</th>\n",
       "      <td>2816.059978</td>\n",
       "      <td>274</td>\n",
       "      <td>0x00003412</td>\n",
       "      <td>59</td>\n",
       "      <td>99</td>\n",
       "      <td>1</td>\n",
       "      <td>135</td>\n",
       "      <td>*******A***F</td>\n",
       "      <td>513920</td>\n",
       "      <td>NaN</td>\n",
       "      <td>0.043669</td>\n",
       "    </tr>\n",
       "    <tr>\n",
       "      <th>2654</th>\n",
       "      <td>2816.158736</td>\n",
       "      <td>274</td>\n",
       "      <td>0x00003412</td>\n",
       "      <td>59</td>\n",
       "      <td>0</td>\n",
       "      <td>101</td>\n",
       "      <td>136</td>\n",
       "      <td>*******A****</td>\n",
       "      <td>513920</td>\n",
       "      <td>NaN</td>\n",
       "      <td>0.097502</td>\n",
       "    </tr>\n",
       "    <tr>\n",
       "      <th>2668</th>\n",
       "      <td>2936.120685</td>\n",
       "      <td>274</td>\n",
       "      <td>0x0000b7b4</td>\n",
       "      <td>54</td>\n",
       "      <td>212</td>\n",
       "      <td>1</td>\n",
       "      <td>1</td>\n",
       "      <td>*******A***F</td>\n",
       "      <td>26000</td>\n",
       "      <td>3.102279e+09</td>\n",
       "      <td>NaN</td>\n",
       "    </tr>\n",
       "    <tr>\n",
       "      <th>2689</th>\n",
       "      <td>3010.763798</td>\n",
       "      <td>278</td>\n",
       "      <td>0x00000000</td>\n",
       "      <td>54</td>\n",
       "      <td>0</td>\n",
       "      <td>0</td>\n",
       "      <td>1</td>\n",
       "      <td>*******A**S*</td>\n",
       "      <td>28960</td>\n",
       "      <td>3.102353e+09</td>\n",
       "      <td>0.105807</td>\n",
       "    </tr>\n",
       "    <tr>\n",
       "      <th>2692</th>\n",
       "      <td>3010.808310</td>\n",
       "      <td>278</td>\n",
       "      <td>0x00003412</td>\n",
       "      <td>59</td>\n",
       "      <td>99</td>\n",
       "      <td>1</td>\n",
       "      <td>204</td>\n",
       "      <td>*******A***F</td>\n",
       "      <td>513920</td>\n",
       "      <td>NaN</td>\n",
       "      <td>0.043931</td>\n",
       "    </tr>\n",
       "    <tr>\n",
       "      <th>2695</th>\n",
       "      <td>3010.907740</td>\n",
       "      <td>278</td>\n",
       "      <td>0x00003412</td>\n",
       "      <td>59</td>\n",
       "      <td>0</td>\n",
       "      <td>101</td>\n",
       "      <td>205</td>\n",
       "      <td>*******A****</td>\n",
       "      <td>513920</td>\n",
       "      <td>NaN</td>\n",
       "      <td>0.098339</td>\n",
       "    </tr>\n",
       "    <tr>\n",
       "      <th>2721</th>\n",
       "      <td>3130.868194</td>\n",
       "      <td>278</td>\n",
       "      <td>0x0000635e</td>\n",
       "      <td>54</td>\n",
       "      <td>212</td>\n",
       "      <td>1</td>\n",
       "      <td>1</td>\n",
       "      <td>*******A***F</td>\n",
       "      <td>28960</td>\n",
       "      <td>3.102473e+09</td>\n",
       "      <td>NaN</td>\n",
       "    </tr>\n",
       "    <tr>\n",
       "      <th>2810</th>\n",
       "      <td>3368.165062</td>\n",
       "      <td>287</td>\n",
       "      <td>0x00000000</td>\n",
       "      <td>54</td>\n",
       "      <td>0</td>\n",
       "      <td>0</td>\n",
       "      <td>1</td>\n",
       "      <td>*******A**S*</td>\n",
       "      <td>28960</td>\n",
       "      <td>3.102711e+09</td>\n",
       "      <td>0.267423</td>\n",
       "    </tr>\n",
       "    <tr>\n",
       "      <th>2813</th>\n",
       "      <td>3368.370601</td>\n",
       "      <td>287</td>\n",
       "      <td>0x00003412</td>\n",
       "      <td>59</td>\n",
       "      <td>99</td>\n",
       "      <td>1</td>\n",
       "      <td>199</td>\n",
       "      <td>*******A***F</td>\n",
       "      <td>513920</td>\n",
       "      <td>NaN</td>\n",
       "      <td>0.205282</td>\n",
       "    </tr>\n",
       "    <tr>\n",
       "      <th>2815</th>\n",
       "      <td>3368.389520</td>\n",
       "      <td>287</td>\n",
       "      <td>0x00003412</td>\n",
       "      <td>59</td>\n",
       "      <td>0</td>\n",
       "      <td>101</td>\n",
       "      <td>200</td>\n",
       "      <td>*******A****</td>\n",
       "      <td>513920</td>\n",
       "      <td>NaN</td>\n",
       "      <td>0.018347</td>\n",
       "    </tr>\n",
       "    <tr>\n",
       "      <th>2834</th>\n",
       "      <td>3488.267293</td>\n",
       "      <td>287</td>\n",
       "      <td>0x0000004f</td>\n",
       "      <td>54</td>\n",
       "      <td>212</td>\n",
       "      <td>1</td>\n",
       "      <td>1</td>\n",
       "      <td>*******A***F</td>\n",
       "      <td>26000</td>\n",
       "      <td>3.102831e+09</td>\n",
       "      <td>NaN</td>\n",
       "    </tr>\n",
       "    <tr>\n",
       "      <th>2901</th>\n",
       "      <td>3843.076695</td>\n",
       "      <td>294</td>\n",
       "      <td>0x00000000</td>\n",
       "      <td>54</td>\n",
       "      <td>0</td>\n",
       "      <td>0</td>\n",
       "      <td>1</td>\n",
       "      <td>*******A**S*</td>\n",
       "      <td>28960</td>\n",
       "      <td>3.103186e+09</td>\n",
       "      <td>0.101271</td>\n",
       "    </tr>\n",
       "    <tr>\n",
       "      <th>2904</th>\n",
       "      <td>3843.120540</td>\n",
       "      <td>294</td>\n",
       "      <td>0x00003412</td>\n",
       "      <td>59</td>\n",
       "      <td>99</td>\n",
       "      <td>1</td>\n",
       "      <td>216</td>\n",
       "      <td>*******A***F</td>\n",
       "      <td>513920</td>\n",
       "      <td>NaN</td>\n",
       "      <td>0.043557</td>\n",
       "    </tr>\n",
       "    <tr>\n",
       "      <th>2907</th>\n",
       "      <td>3843.220894</td>\n",
       "      <td>294</td>\n",
       "      <td>0x00003412</td>\n",
       "      <td>59</td>\n",
       "      <td>0</td>\n",
       "      <td>101</td>\n",
       "      <td>217</td>\n",
       "      <td>*******A****</td>\n",
       "      <td>513920</td>\n",
       "      <td>NaN</td>\n",
       "      <td>0.099845</td>\n",
       "    </tr>\n",
       "    <tr>\n",
       "      <th>2964</th>\n",
       "      <td>3963.177494</td>\n",
       "      <td>294</td>\n",
       "      <td>0x00009fdf</td>\n",
       "      <td>54</td>\n",
       "      <td>212</td>\n",
       "      <td>1</td>\n",
       "      <td>1</td>\n",
       "      <td>*******A***F</td>\n",
       "      <td>26000</td>\n",
       "      <td>3.103306e+09</td>\n",
       "      <td>NaN</td>\n",
       "    </tr>\n",
       "  </tbody>\n",
       "</table>\n",
       "</div>"
      ],
      "text/plain": [
       "       time_epoch  stream          id  ttl  len  seq  ack         flags  \\\n",
       "1188  1589.229151     117  0x00000000   54    0    0    1  *******A**S*   \n",
       "1191  1589.274511     117  0x00003412   59   99    1  213  *******A***F   \n",
       "1193  1589.374932     117  0x00003412   59    0  101  214  *******A****   \n",
       "1226  1709.330761     117  0x00003f9c   54  212    1    1  *******A***F   \n",
       "2583  2705.941551     268  0x00000000   54    0    0    1  *******A**S*   \n",
       "2586  2705.987294     268  0x00003412   59   99    1  248  *******A***F   \n",
       "2588  2706.086246     268  0x00003412   59    0  101  249  *******A****   \n",
       "2655  2826.044916     268  0x0000ee27   54  212    1    1  *******A***F   \n",
       "2649  2816.015924     274  0x00000000   54    0    0    1  *******A**S*   \n",
       "2652  2816.059978     274  0x00003412   59   99    1  135  *******A***F   \n",
       "2654  2816.158736     274  0x00003412   59    0  101  136  *******A****   \n",
       "2668  2936.120685     274  0x0000b7b4   54  212    1    1  *******A***F   \n",
       "2689  3010.763798     278  0x00000000   54    0    0    1  *******A**S*   \n",
       "2692  3010.808310     278  0x00003412   59   99    1  204  *******A***F   \n",
       "2695  3010.907740     278  0x00003412   59    0  101  205  *******A****   \n",
       "2721  3130.868194     278  0x0000635e   54  212    1    1  *******A***F   \n",
       "2810  3368.165062     287  0x00000000   54    0    0    1  *******A**S*   \n",
       "2813  3368.370601     287  0x00003412   59   99    1  199  *******A***F   \n",
       "2815  3368.389520     287  0x00003412   59    0  101  200  *******A****   \n",
       "2834  3488.267293     287  0x0000004f   54  212    1    1  *******A***F   \n",
       "2901  3843.076695     294  0x00000000   54    0    0    1  *******A**S*   \n",
       "2904  3843.120540     294  0x00003412   59   99    1  216  *******A***F   \n",
       "2907  3843.220894     294  0x00003412   59    0  101  217  *******A****   \n",
       "2964  3963.177494     294  0x00009fdf   54  212    1    1  *******A***F   \n",
       "\n",
       "      window_size         tsval   ack_rtt  \n",
       "1188        28960  3.100932e+09  0.103577  \n",
       "1191       513920           NaN  0.045109  \n",
       "1193       513920           NaN  0.099951  \n",
       "1226        26000  3.101052e+09       NaN  \n",
       "2583        28960  3.102049e+09  0.110307  \n",
       "2586       513920           NaN  0.045296  \n",
       "2588       513920           NaN  0.097518  \n",
       "2655        26000  3.102169e+09       NaN  \n",
       "2649        28960  3.102159e+09  0.103654  \n",
       "2652       513920           NaN  0.043669  \n",
       "2654       513920           NaN  0.097502  \n",
       "2668        26000  3.102279e+09       NaN  \n",
       "2689        28960  3.102353e+09  0.105807  \n",
       "2692       513920           NaN  0.043931  \n",
       "2695       513920           NaN  0.098339  \n",
       "2721        28960  3.102473e+09       NaN  \n",
       "2810        28960  3.102711e+09  0.267423  \n",
       "2813       513920           NaN  0.205282  \n",
       "2815       513920           NaN  0.018347  \n",
       "2834        26000  3.102831e+09       NaN  \n",
       "2901        28960  3.103186e+09  0.101271  \n",
       "2904       513920           NaN  0.043557  \n",
       "2907       513920           NaN  0.099845  \n",
       "2964        26000  3.103306e+09       NaN  "
      ]
     },
     "execution_count": 20,
     "metadata": {},
     "output_type": "execute_result"
    }
   ],
   "source": [
    "d_bad = data[data.stream.isin(s_bad) & (data.srcport == 80)]\n",
    "d_bad['time_epoch stream id ttl len seq ack flags window_size tsval ack_rtt'.split()].sort_values(by=['stream', 'time_epoch'])"
   ]
  },
  {
   "cell_type": "markdown",
   "metadata": {},
   "source": [
    "So, all packets that look-like-injected have:\n",
    "- IP-ID=0x3412\n",
    "- IP TTL=59\n",
    "- no TCP options\n",
    "\n",
    "The server also sends `408 Request timeout` in 120 seconds. It means, that the server has not seen the request at all, so the injector act as an in-band device.\n",
    "\n",
    "Also ACK that is confirming FIN-ACK is looks like injected according to IP ID and TTL, but it has **weird RTT** (~98ms, but not ~44ms)."
   ]
  },
  {
   "cell_type": "markdown",
   "metadata": {},
   "source": [
    "### Stream 287"
   ]
  },
  {
   "cell_type": "markdown",
   "metadata": {},
   "source": [
    "That's injected stream that has ~200ms latency. On the other hand, *genuine* SYN-ACK from the server also has larger-than-usual RTT, so it's probably just a temporary Bufferbloat lag."
   ]
  },
  {
   "cell_type": "code",
   "execution_count": 21,
   "metadata": {
    "collapsed": false
   },
   "outputs": [
    {
     "data": {
      "text/html": [
       "<div>\n",
       "<table border=\"1\" class=\"dataframe\">\n",
       "  <thead>\n",
       "    <tr style=\"text-align: right;\">\n",
       "      <th></th>\n",
       "      <th>time_epoch</th>\n",
       "      <th>stream</th>\n",
       "      <th>id</th>\n",
       "      <th>ttl</th>\n",
       "      <th>len</th>\n",
       "      <th>seq</th>\n",
       "      <th>ack</th>\n",
       "      <th>flags</th>\n",
       "      <th>window_size</th>\n",
       "      <th>tsval</th>\n",
       "      <th>ack_rtt</th>\n",
       "    </tr>\n",
       "  </thead>\n",
       "  <tbody>\n",
       "    <tr>\n",
       "      <th>2810</th>\n",
       "      <td>3368.165062</td>\n",
       "      <td>287</td>\n",
       "      <td>0x00000000</td>\n",
       "      <td>54</td>\n",
       "      <td>0</td>\n",
       "      <td>0</td>\n",
       "      <td>1</td>\n",
       "      <td>*******A**S*</td>\n",
       "      <td>28960</td>\n",
       "      <td>3.102711e+09</td>\n",
       "      <td>0.267423</td>\n",
       "    </tr>\n",
       "    <tr>\n",
       "      <th>2813</th>\n",
       "      <td>3368.370601</td>\n",
       "      <td>287</td>\n",
       "      <td>0x00003412</td>\n",
       "      <td>59</td>\n",
       "      <td>99</td>\n",
       "      <td>1</td>\n",
       "      <td>199</td>\n",
       "      <td>*******A***F</td>\n",
       "      <td>513920</td>\n",
       "      <td>NaN</td>\n",
       "      <td>0.205282</td>\n",
       "    </tr>\n",
       "    <tr>\n",
       "      <th>2815</th>\n",
       "      <td>3368.389520</td>\n",
       "      <td>287</td>\n",
       "      <td>0x00003412</td>\n",
       "      <td>59</td>\n",
       "      <td>0</td>\n",
       "      <td>101</td>\n",
       "      <td>200</td>\n",
       "      <td>*******A****</td>\n",
       "      <td>513920</td>\n",
       "      <td>NaN</td>\n",
       "      <td>0.018347</td>\n",
       "    </tr>\n",
       "    <tr>\n",
       "      <th>2834</th>\n",
       "      <td>3488.267293</td>\n",
       "      <td>287</td>\n",
       "      <td>0x0000004f</td>\n",
       "      <td>54</td>\n",
       "      <td>212</td>\n",
       "      <td>1</td>\n",
       "      <td>1</td>\n",
       "      <td>*******A***F</td>\n",
       "      <td>26000</td>\n",
       "      <td>3.102831e+09</td>\n",
       "      <td>NaN</td>\n",
       "    </tr>\n",
       "  </tbody>\n",
       "</table>\n",
       "</div>"
      ],
      "text/plain": [
       "       time_epoch  stream          id  ttl  len  seq  ack         flags  \\\n",
       "2810  3368.165062     287  0x00000000   54    0    0    1  *******A**S*   \n",
       "2813  3368.370601     287  0x00003412   59   99    1  199  *******A***F   \n",
       "2815  3368.389520     287  0x00003412   59    0  101  200  *******A****   \n",
       "2834  3488.267293     287  0x0000004f   54  212    1    1  *******A***F   \n",
       "\n",
       "      window_size         tsval   ack_rtt  \n",
       "2810        28960  3.102711e+09  0.267423  \n",
       "2813       513920           NaN  0.205282  \n",
       "2815       513920           NaN  0.018347  \n",
       "2834        26000  3.102831e+09       NaN  "
      ]
     },
     "execution_count": 21,
     "metadata": {},
     "output_type": "execute_result"
    }
   ],
   "source": [
    "d_bad[d_bad.stream == 287]['time_epoch stream id ttl len seq ack flags window_size tsval ack_rtt'.split()]"
   ]
  },
  {
   "cell_type": "markdown",
   "metadata": {},
   "source": [
    "The interesting thing about this stream is that ACK confirming FIN-ACK has 18ms ACK_RTT, so it actually means that the packet was likely sent **BEFORE** seeing the FIN from the client as the last-mile RTT is ~38ms according to `mtr` measurements.\n",
    "\n",
    "If the statement is actually true, then another question arises: why is ACK-confirming-FIN-ACK usually ~98ms delayed? Is it triggered by some packet from original server? Is it sort of latency camouflage? No further research was done yet to clarify these questions."
   ]
  },
  {
   "cell_type": "markdown",
   "metadata": {},
   "source": [
    "## Ugly streams"
   ]
  },
  {
   "cell_type": "code",
   "execution_count": 22,
   "metadata": {
    "collapsed": false
   },
   "outputs": [
    {
     "data": {
      "text/html": [
       "<div>\n",
       "<table border=\"1\" class=\"dataframe\">\n",
       "  <thead>\n",
       "    <tr style=\"text-align: right;\">\n",
       "      <th></th>\n",
       "      <th></th>\n",
       "      <th>count</th>\n",
       "    </tr>\n",
       "    <tr>\n",
       "      <th>stream</th>\n",
       "      <th>tsecr</th>\n",
       "      <th></th>\n",
       "    </tr>\n",
       "  </thead>\n",
       "  <tbody>\n",
       "    <tr>\n",
       "      <th rowspan=\"2\" valign=\"top\">110</th>\n",
       "      <th>614915.0</th>\n",
       "      <td>1</td>\n",
       "    </tr>\n",
       "    <tr>\n",
       "      <th>614943.0</th>\n",
       "      <td>10</td>\n",
       "    </tr>\n",
       "    <tr>\n",
       "      <th rowspan=\"2\" valign=\"top\">116</th>\n",
       "      <th>747274.0</th>\n",
       "      <td>1</td>\n",
       "    </tr>\n",
       "    <tr>\n",
       "      <th>747297.0</th>\n",
       "      <td>7</td>\n",
       "    </tr>\n",
       "    <tr>\n",
       "      <th rowspan=\"2\" valign=\"top\">121</th>\n",
       "      <th>786823.0</th>\n",
       "      <td>1</td>\n",
       "    </tr>\n",
       "    <tr>\n",
       "      <th>786847.0</th>\n",
       "      <td>10</td>\n",
       "    </tr>\n",
       "    <tr>\n",
       "      <th rowspan=\"2\" valign=\"top\">269</th>\n",
       "      <th>1034918.0</th>\n",
       "      <td>1</td>\n",
       "    </tr>\n",
       "    <tr>\n",
       "      <th>1034942.0</th>\n",
       "      <td>10</td>\n",
       "    </tr>\n",
       "    <tr>\n",
       "      <th rowspan=\"2\" valign=\"top\">279</th>\n",
       "      <th>1110335.0</th>\n",
       "      <td>1</td>\n",
       "    </tr>\n",
       "    <tr>\n",
       "      <th>1110359.0</th>\n",
       "      <td>3</td>\n",
       "    </tr>\n",
       "    <tr>\n",
       "      <th rowspan=\"2\" valign=\"top\">281</th>\n",
       "      <th>1143649.0</th>\n",
       "      <td>1</td>\n",
       "    </tr>\n",
       "    <tr>\n",
       "      <th>1143672.0</th>\n",
       "      <td>10</td>\n",
       "    </tr>\n",
       "    <tr>\n",
       "      <th rowspan=\"2\" valign=\"top\">282</th>\n",
       "      <th>1151512.0</th>\n",
       "      <td>1</td>\n",
       "    </tr>\n",
       "    <tr>\n",
       "      <th>1151536.0</th>\n",
       "      <td>10</td>\n",
       "    </tr>\n",
       "    <tr>\n",
       "      <th rowspan=\"2\" valign=\"top\">291</th>\n",
       "      <th>1239517.0</th>\n",
       "      <td>1</td>\n",
       "    </tr>\n",
       "    <tr>\n",
       "      <th>1239540.0</th>\n",
       "      <td>9</td>\n",
       "    </tr>\n",
       "    <tr>\n",
       "      <th rowspan=\"2\" valign=\"top\">292</th>\n",
       "      <th>1279490.0</th>\n",
       "      <td>1</td>\n",
       "    </tr>\n",
       "    <tr>\n",
       "      <th>1279514.0</th>\n",
       "      <td>9</td>\n",
       "    </tr>\n",
       "    <tr>\n",
       "      <th rowspan=\"2\" valign=\"top\">296</th>\n",
       "      <th>1318977.0</th>\n",
       "      <td>1</td>\n",
       "    </tr>\n",
       "    <tr>\n",
       "      <th>1319001.0</th>\n",
       "      <td>9</td>\n",
       "    </tr>\n",
       "  </tbody>\n",
       "</table>\n",
       "</div>"
      ],
      "text/plain": [
       "                  count\n",
       "stream tsecr           \n",
       "110    614915.0       1\n",
       "       614943.0      10\n",
       "116    747274.0       1\n",
       "       747297.0       7\n",
       "121    786823.0       1\n",
       "       786847.0      10\n",
       "269    1034918.0      1\n",
       "       1034942.0     10\n",
       "279    1110335.0      1\n",
       "       1110359.0      3\n",
       "281    1143649.0      1\n",
       "       1143672.0     10\n",
       "282    1151512.0      1\n",
       "       1151536.0     10\n",
       "291    1239517.0      1\n",
       "       1239540.0      9\n",
       "292    1279490.0      1\n",
       "       1279514.0      9\n",
       "296    1318977.0      1\n",
       "       1319001.0      9"
      ]
     },
     "execution_count": 22,
     "metadata": {},
     "output_type": "execute_result"
    }
   ],
   "source": [
    "d_ugly = data[data.stream.isin(s_ugly) & (data.srcport == 80)]\n",
    "d_ugly.groupby(by='stream tsecr'.split()).time_epoch.agg(['count'])"
   ]
  },
  {
   "cell_type": "markdown",
   "metadata": {},
   "source": [
    "It means, that the remote server has seen `SYN` packet and the first `ACK` after the `SYN`, but the server has never seen the request itself. It suggests that the *ugly* streams are just a sort of *bad* streams those got no redirection packet for some reason."
   ]
  },
  {
   "cell_type": "markdown",
   "metadata": {},
   "source": [
    "## Reunion of the bad and the ugly"
   ]
  },
  {
   "cell_type": "markdown",
   "metadata": {},
   "source": [
    "It's interesting that only mobile User-agents were redirected to the `…/mads.html`. Our test sent ~33% of requests using mobile User-Agent and 67% of requests using desktop User-Agent."
   ]
  },
  {
   "cell_type": "code",
   "execution_count": 23,
   "metadata": {
    "collapsed": false
   },
   "outputs": [
    {
     "data": {
      "text/plain": [
       "Mozilla/5.0 (Linux; U; Android 4.0.3; de-de; Galaxy S II Build/GRJ22) AppleWebKit/534.30 (KHTML, like Gecko) Version/4.0 Mobile Safari/534.30                                                 2\n",
       "Mozilla/5.0 (PlayBook; U; RIM Tablet OS 2.1.0; en-US) AppleWebKit/536.2+ (KHTML like Gecko) Version/7.2.1.0 Safari/536.2+                                                                     1\n",
       "Mozilla/5.0 (Linux; U; Android 1.5; en-us; SPH-M900 Build/CUPCAKE) AppleWebKit/528.5  (KHTML, like Gecko) Version/3.1.2 Mobile Safari/525.20.1                                                1\n",
       "Mozilla/5.0 (Linux; U; Android 2.2; en-us; Sprint APA9292KT Build/FRF91) AppleWebKit/533.1 (KHTML, like Gecko) Version/4.0 Mobile Safari/533.1                                                1\n",
       "Mozilla/5.0 (Linux; U; Android 2.2; en-ca; GT-P1000M Build/FROYO) AppleWebKit/533.1 (KHTML, like Gecko) Version/4.0 Mobile Safari/533.1                                                       1\n",
       "Mozilla/5.0 (Symbian/3; Series60/5.2 NokiaE6-00/021.002; Profile/MIDP-2.1 Configuration/CLDC-1.1) AppleWebKit/533.4 (KHTML, like Gecko) NokiaBrowser/7.3.1.16 Mobile Safari/533.4 3gpp-gba    1\n",
       "MOTORIZR-Z8/46.00.00 Mozilla/4.0 (compatible; MSIE 6.0; Symbian OS; 356) Opera 8.65 [it] UP.Link/6.3.0.0.0                                                                                    1\n",
       "Mozilla/5.0 (Linux; U; Android 1.5; en-gb; T-Mobile_G2_Touch Build/CUPCAKE) AppleWebKit/528.5  (KHTML, like Gecko) Version/3.1.2 Mobile Safari/525.20.1                                       1\n",
       "Mozilla/5.0 (iPod; U; CPU iPhone OS 2_2_1 like Mac OS X; en-us) AppleWebKit/525.18.1 (KHTML, like Gecko) Version/3.1.1 Mobile/5H11a Safari/525.20                                             1\n",
       "BlackBerry8320/4.2.2 Profile/MIDP-2.0 Configuration/CLDC-1.1 VendorID/100                                                                                                                     1\n",
       "Mozilla/5.0 (SymbianOS/9.1; U; en-us) AppleWebKit/413 (KHTML, like Gecko) Safari/413 es50                                                                                                     1\n",
       "BlackBerry8300/4.2.2 Profile/MIDP-2.0 Configuration/CLDC-1.1 VendorID/107 UP.Link/6.2.3.15.0                                                                                                  1\n",
       "Mozilla/5.0 (Symbian/3; Series60/5.2 NokiaN8-00/014.002; Profile/MIDP-2.1 Configuration/CLDC-1.1; en-us) AppleWebKit/525 (KHTML, like Gecko) Version/3.0 BrowserNG/7.2.6.4 3gpp-gba           1\n",
       "Mozilla/5.0 (Linux; U; Android 2.1; en-us; Nexus One Build/ERD62) AppleWebKit/530.17 (KHTML, like Gecko) Version/4.0 Mobile Safari/530.17                                                     1\n",
       "Mozilla/5.0 (Linux; U; Android 4.0.3; en-us; KFTT Build/IML74K) AppleWebKit/535.19 (KHTML, like Gecko) Silk/2.1 Mobile Safari/535.19 Silk-Accelerated=true                                    1\n",
       "Name: user_agent, dtype: int64"
      ]
     },
     "execution_count": 23,
     "metadata": {},
     "output_type": "execute_result"
    }
   ],
   "source": [
    "d_goo = data[data.stream.isin(s_bad | s_ugly)]\n",
    "d_goo.user_agent.value_counts()"
   ]
  },
  {
   "cell_type": "markdown",
   "metadata": {},
   "source": [
    "It explains why OONI dataset sees no redirection. We've seen redirections only for mobile `User-Agent` so probably the DPI targets mobile users."
   ]
  },
  {
   "cell_type": "code",
   "execution_count": 24,
   "metadata": {
    "collapsed": false
   },
   "outputs": [
    {
     "name": "stdout",
     "output_type": "stream",
     "text": [
      "Redirection happens in 3.2% cases\n",
      "Redirection happens in 9.9% of mobile cases\n"
     ]
    }
   ],
   "source": [
    "print 'Redirection happens in %.1f%% cases' % (100.*len(s_bad|s_ugly) / len(set(data.stream)))\n",
    "\n",
    "print 'Redirection happens in %.1f%% of mobile cases' % (100.*len(s_bad|s_ugly) / \n",
    "         len(set(data[data.user_agent.str.match('.*(?:Android|RIM|Symbian|Series60|iPhone|BlackBerry|MIDP)', as_indexer=True) == True].stream)))"
   ]
  }
 ],
 "metadata": {
  "kernelspec": {
   "display_name": "Python 2",
   "language": "python",
   "name": "python2"
  },
  "language_info": {
   "codemirror_mode": {
    "name": "ipython",
    "version": 2
   },
   "file_extension": ".py",
   "mimetype": "text/x-python",
   "name": "python",
   "nbconvert_exporter": "python",
   "pygments_lexer": "ipython2",
   "version": "2.7.11"
  }
 },
 "nbformat": 4,
 "nbformat_minor": 0
}
