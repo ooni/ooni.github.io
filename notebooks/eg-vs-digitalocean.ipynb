{
 "cells": [
  {
   "cell_type": "markdown",
   "metadata": {},
   "source": [
    "# EG vs. DigitalOcean\n",
    "\n",
    "In August 2016 we've seen claims that encrypted connection from Egypt to DigitalOcean hosts are heavily throttled.\n",
    "\n",
    "Based on our testing, the `digitalocean.pcap` file contains the record of several thousand attempts to establish HTTPS connection to [alexmerkel.com](https://alexmerkel.com) from an Egyptian ISP."
   ]
  },
  {
   "cell_type": "markdown",
   "metadata": {},
   "source": [
    "## Massaging the data"
   ]
  },
  {
   "cell_type": "code",
   "execution_count": 1,
   "metadata": {
    "collapsed": false
   },
   "outputs": [],
   "source": [
    "!tshark -r digitalocean.pcap -n -T fields \\\n",
    "  -e frame.number \\\n",
    "  -e frame.time_epoch \\\n",
    "  -e tcp.flags.str \\\n",
    "  -e tcp.srcport -e tcp.dstport \\\n",
    "  -e tcp.seq -e tcp.ack \\\n",
    "  -e tcp.options.timestamp.tsval -e tcp.options.timestamp.tsecr >pcap.tsv"
   ]
  },
  {
   "cell_type": "markdown",
   "metadata": {},
   "source": [
    "`RST` packets from our host have no [TCP timestamp](https://en.wikipedia.org/wiki/Transmission_Control_Protocol#TCP_timestamps) options, so it's easier to filter them out when they don't provide any valuable information."
   ]
  },
  {
   "cell_type": "code",
   "execution_count": 2,
   "metadata": {
    "collapsed": false
   },
   "outputs": [
    {
     "name": "stdout",
     "output_type": "stream",
     "text": [
      "+ awk !($5 == 443 && $3 == \"*********R**\") pcap.tsv\r\n"
     ]
    }
   ],
   "source": [
    "!set -o xtrace; awk '!($$5 == 443 && $$3 == \"*********R**\")' pcap.tsv >good.tsv"
   ]
  },
  {
   "cell_type": "code",
   "execution_count": 3,
   "metadata": {
    "collapsed": false
   },
   "outputs": [
    {
     "name": "stdout",
     "output_type": "stream",
     "text": [
      "  196941 pcap.tsv\r\n",
      "  196922 good.tsv\r\n",
      "  393863 total\r\n"
     ]
    }
   ],
   "source": [
    "!wc -l pcap.tsv good.tsv"
   ]
  },
  {
   "cell_type": "markdown",
   "metadata": {},
   "source": [
    "The dump has ~200k packets."
   ]
  },
  {
   "cell_type": "code",
   "execution_count": 4,
   "metadata": {
    "collapsed": true
   },
   "outputs": [],
   "source": [
    "import pandas as pd\n",
    "import numpy as np\n",
    "import datetime\n",
    "import matplotlib\n",
    "import matplotlib.pylab as plt\n",
    "fromtimestamp = datetime.datetime.fromtimestamp"
   ]
  },
  {
   "cell_type": "code",
   "execution_count": 5,
   "metadata": {
    "collapsed": true
   },
   "outputs": [],
   "source": [
    "%matplotlib inline"
   ]
  },
  {
   "cell_type": "code",
   "execution_count": 6,
   "metadata": {
    "collapsed": false
   },
   "outputs": [],
   "source": [
    "head = 'no time_epoch flags srcport dstport seq ack tsval tsecr'.split()\n",
    "types =  [np.uint32, np.float64, str, np.uint16, np.uint16, np.uint32, np.uint32, np.uint32, np.uint32]\n",
    "d = pd.read_csv('good.tsv', delimiter='\\t',\n",
    "            names=head,\n",
    "            dtype=dict(zip(head, types)))\n",
    "d.time_epoch -= d.time_epoch.min() # to see milliseconds better"
   ]
  },
  {
   "cell_type": "markdown",
   "metadata": {},
   "source": [
    "There are some TCP packets arriving from the server. It's possible to use TCP timestamps to understand RTT to the server better as server echoes last seen client's TCP timestamp back. PCAPs contain the exact wall clock timestamp corresponding to the client's TCP timestamp which makes it possible to estimate RTT."
   ]
  },
  {
   "cell_type": "code",
   "execution_count": 7,
   "metadata": {
    "collapsed": true
   },
   "outputs": [],
   "source": [
    "smpl = (54832, 15126214) # just a sample"
   ]
  },
  {
   "cell_type": "code",
   "execution_count": 8,
   "metadata": {
    "collapsed": false
   },
   "outputs": [
    {
     "data": {
      "text/plain": [
       "no                   30313\n",
       "time_epoch         1723.59\n",
       "flags         *******A****\n",
       "srcport                443\n",
       "seq                      1\n",
       "ack                    297\n",
       "tsval            241524960\n",
       "Name: (54832, 15126214), dtype: object"
      ]
     },
     "execution_count": 8,
     "metadata": {},
     "output_type": "execute_result"
    }
   ],
   "source": [
    "resp = d[d.srcport == 443]\n",
    "resp = resp.drop_duplicates(['dstport', 'tsecr'], keep='first')\n",
    "resp = resp.set_index(['dstport', 'tsecr'], verify_integrity=True)\n",
    "resp.index.rename(['port', 'tcpts'], inplace=True)\n",
    "rs = resp.loc[smpl]\n",
    "rs"
   ]
  },
  {
   "cell_type": "code",
   "execution_count": 9,
   "metadata": {
    "collapsed": false
   },
   "outputs": [
    {
     "data": {
      "text/html": [
       "<div>\n",
       "<table border=\"1\" class=\"dataframe\">\n",
       "  <thead>\n",
       "    <tr style=\"text-align: right;\">\n",
       "      <th></th>\n",
       "      <th>no</th>\n",
       "      <th>time_epoch</th>\n",
       "      <th>flags</th>\n",
       "      <th>srcport</th>\n",
       "      <th>dstport</th>\n",
       "      <th>seq</th>\n",
       "      <th>ack</th>\n",
       "      <th>tsval</th>\n",
       "      <th>tsecr</th>\n",
       "    </tr>\n",
       "  </thead>\n",
       "  <tbody>\n",
       "    <tr>\n",
       "      <th>30289</th>\n",
       "      <td>30294</td>\n",
       "      <td>1722.474151</td>\n",
       "      <td>*******A****</td>\n",
       "      <td>54832</td>\n",
       "      <td>443</td>\n",
       "      <td>1</td>\n",
       "      <td>1</td>\n",
       "      <td>15126214</td>\n",
       "      <td>241524681</td>\n",
       "    </tr>\n",
       "    <tr>\n",
       "      <th>30290</th>\n",
       "      <td>30295</td>\n",
       "      <td>1722.475029</td>\n",
       "      <td>*******AP***</td>\n",
       "      <td>54832</td>\n",
       "      <td>443</td>\n",
       "      <td>1</td>\n",
       "      <td>1</td>\n",
       "      <td>15126214</td>\n",
       "      <td>241524681</td>\n",
       "    </tr>\n",
       "  </tbody>\n",
       "</table>\n",
       "</div>"
      ],
      "text/plain": [
       "          no   time_epoch         flags  srcport  dstport  seq  ack     tsval  \\\n",
       "30289  30294  1722.474151  *******A****    54832      443    1    1  15126214   \n",
       "30290  30295  1722.475029  *******AP***    54832      443    1    1  15126214   \n",
       "\n",
       "           tsecr  \n",
       "30289  241524681  \n",
       "30290  241524681  "
      ]
     },
     "execution_count": 9,
     "metadata": {},
     "output_type": "execute_result"
    }
   ],
   "source": [
    "req = d[d.dstport == 443]\n",
    "req[(req.srcport == smpl[0]) & (req.tsval == smpl[1])]"
   ]
  },
  {
   "cell_type": "markdown",
   "metadata": {},
   "source": [
    "Several TCP packets *may* have the same timestamp as the TCP clock resolution is not very high. For example, Linux determines TCP timestamp resolution based on `HZ` variable, one of common `HZ` values is 250, which leads to `4ms` precision of TCP timestamp.\n",
    "\n",
    "The following code takes the very first packet in a packet series with the same TCP timestamp and creates a table to calculate RTT."
   ]
  },
  {
   "cell_type": "code",
   "execution_count": 10,
   "metadata": {
    "collapsed": false
   },
   "outputs": [
    {
     "data": {
      "text/plain": [
       "no                   30294\n",
       "time_epoch         1722.47\n",
       "flags         *******A****\n",
       "dstport                443\n",
       "seq                      1\n",
       "ack                      1\n",
       "tsecr            241524681\n",
       "Name: (54832, 15126214), dtype: object"
      ]
     },
     "execution_count": 10,
     "metadata": {},
     "output_type": "execute_result"
    }
   ],
   "source": [
    "req = d[d.dstport == 443]\n",
    "req = req.drop_duplicates(['srcport', 'tsval'], keep='first')\n",
    "req = req.set_index(['srcport', 'tsval'], verify_integrity=True) # cross-verify with `first`\n",
    "req.index.rename(['port', 'tcpts'], inplace=True)\n",
    "req.loc[smpl]"
   ]
  },
  {
   "cell_type": "markdown",
   "metadata": {},
   "source": [
    "RTT for every reply is calculated [joining](https://en.wikipedia.org/wiki/Join_%28SQL%29) corresponding request to it."
   ]
  },
  {
   "cell_type": "code",
   "execution_count": 11,
   "metadata": {
    "collapsed": false
   },
   "outputs": [],
   "source": [
    "prod = resp.join(req, lsuffix='_resp', rsuffix='_req')"
   ]
  },
  {
   "cell_type": "code",
   "execution_count": 12,
   "metadata": {
    "collapsed": false
   },
   "outputs": [
    {
     "data": {
      "text/plain": [
       "((187997, 7), (5976, 7), (5976, 14))"
      ]
     },
     "execution_count": 12,
     "metadata": {},
     "output_type": "execute_result"
    }
   ],
   "source": [
    "req.shape, resp.shape, prod.shape"
   ]
  },
  {
   "cell_type": "markdown",
   "metadata": {},
   "source": [
    "Every response gets a corresponding request which is not surprising as tcpdump running at client have not missed any requests. Only 3% of TCP requests got some TCP reply."
   ]
  },
  {
   "cell_type": "code",
   "execution_count": 13,
   "metadata": {
    "collapsed": false
   },
   "outputs": [
    {
     "data": {
      "text/plain": [
       "time_epoch_req     1722.47\n",
       "time_epoch_resp    1723.59\n",
       "Name: (54832, 15126214), dtype: object"
      ]
     },
     "execution_count": 13,
     "metadata": {},
     "output_type": "execute_result"
    }
   ],
   "source": [
    "prod.loc[smpl][['time_epoch_req', 'time_epoch_resp']]"
   ]
  },
  {
   "cell_type": "markdown",
   "metadata": {},
   "source": [
    "So pre-processing is done and actual RTT values can be studied now."
   ]
  },
  {
   "cell_type": "markdown",
   "metadata": {},
   "source": [
    "## TCP Timestamps give us some clue regarding RTT"
   ]
  },
  {
   "cell_type": "code",
   "execution_count": 14,
   "metadata": {
    "collapsed": false
   },
   "outputs": [],
   "source": [
    "delay = (prod.time_epoch_resp - prod.time_epoch_req)"
   ]
  },
  {
   "cell_type": "code",
   "execution_count": 15,
   "metadata": {
    "collapsed": false
   },
   "outputs": [
    {
     "data": {
      "image/png": "[encoded data removed]",
      "text/plain": [
       "<matplotlib.figure.Figure at 0x7f6104907950>"
      ]
     },
     "metadata": {},
     "output_type": "display_data"
    }
   ],
   "source": [
    "delay[delay < 10].hist(bins=50)\n",
    "plt.xlabel('Delay, s')\n",
    "plt.ylabel('`reply` packets') ;"
   ]
  },
  {
   "cell_type": "markdown",
   "metadata": {},
   "source": [
    "It looks like usual RTT of TCP re-transmissions: the very first re-transmission happens after one second as soon as there is no data to calculate better RTO (re-transmission timeout) at this moment. Another possibility is that it's a real link latency, but this hypothesis is refuted by plain `ping`.\n",
    "\n",
    "Let's look at the histogram with a bit different resolution:"
   ]
  },
  {
   "cell_type": "code",
   "execution_count": 16,
   "metadata": {
    "collapsed": false
   },
   "outputs": [
    {
     "data": {
      "image/png": "[encoded data removed]",
      "text/plain": [
       "<matplotlib.figure.Figure at 0x7f61010ecb10>"
      ]
     },
     "metadata": {},
     "output_type": "display_data"
    }
   ],
   "source": [
    "fig = plt.figure()\n",
    "fig.set_figwidth(15)\n",
    "fig.set_figheight(3)\n",
    "for i, ndx in enumerate([delay < 1.5, (delay >= 1.5) & (delay < 7.5), delay >= 7.5]):\n",
    "    ax = fig.add_subplot(1, 3, i+1)\n",
    "    delay[ndx].hist(bins=50, ax=ax)\n",
    "    ax.set_xlabel('Delay, s')\n",
    "    ax.set_ylabel('\"reply\" packets') ;"
   ]
  },
  {
   "cell_type": "markdown",
   "metadata": {},
   "source": [
    "## Bufferbloat or dropped packet?"
   ]
  },
  {
   "cell_type": "markdown",
   "metadata": {},
   "source": [
    "Another possible explanation of packet delay is the [Bufferbloat effect](https://en.wikipedia.org/wiki/Bufferbloat). In this case there will be a router between the client and the server causing significant latency. It's hard to estimate this latency precisely, but it's possible to estimate the *variance* of the latency assuming that the server TCP Timestamp clock is ticking in a linear fashion, and that's true at least for Linux servers."
   ]
  },
  {
   "cell_type": "code",
   "execution_count": 17,
   "metadata": {
    "collapsed": false
   },
   "outputs": [
    {
     "data": {
      "image/png": "[encoded data removed]",
      "text/plain": [
       "<matplotlib.figure.Figure at 0x7f610127f290>"
      ]
     },
     "metadata": {},
     "output_type": "display_data"
    }
   ],
   "source": [
    "resp = d[d.srcport == 443]\n",
    "plt.scatter(map(fromtimestamp, resp.time_epoch), resp.tsval, marker='.')\n",
    "plt.xlim(fromtimestamp(resp.time_epoch.min() - 60), fromtimestamp(resp.time_epoch.max() + 60))\n",
    "plt.xlabel('Client unix clock')\n",
    "plt.ylabel('Server TCP timestamp')\n",
    "plt.axes().xaxis.set_major_formatter(matplotlib.dates.DateFormatter('%H:%M'))"
   ]
  },
  {
   "cell_type": "markdown",
   "metadata": {},
   "source": [
    "Well, it looks pretty linear. It's possible to estimate tick length & clock offset of TCP timestamps fitting simple linear model to the data."
   ]
  },
  {
   "cell_type": "code",
   "execution_count": 18,
   "metadata": {
    "collapsed": false
   },
   "outputs": [
    {
     "name": "stdout",
     "output_type": "stream",
     "text": [
      "One TCP Timestamp tick is 0.004000 ms, HZ ~250\n"
     ]
    }
   ],
   "source": [
    "# Whoa! Machine learning!\n",
    "slope, inters = np.linalg.lstsq(np.vstack([resp.tsval, np.ones_like(resp.tsval)]).T, resp.time_epoch)[0]\n",
    "print 'One TCP Timestamp tick is %f ms, HZ ~%d' % (slope, 1 / slope)"
   ]
  },
  {
   "cell_type": "code",
   "execution_count": 19,
   "metadata": {
    "collapsed": false
   },
   "outputs": [
    {
     "data": {
      "image/png": "[encoded data removed]",
      "text/plain": [
       "<matplotlib.figure.Figure at 0x7f61006f19d0>"
      ]
     },
     "metadata": {},
     "output_type": "display_data"
    }
   ],
   "source": [
    "fiterr = resp.time_epoch - (resp.tsval * slope + inters)\n",
    "\n",
    "plt.scatter(map(fromtimestamp, resp.time_epoch), fiterr, marker='.')\n",
    "plt.xlim(fromtimestamp(resp.time_epoch.min() - 60), fromtimestamp(resp.time_epoch.max() + 60))\n",
    "plt.xlabel('Client unix clock')\n",
    "plt.ylabel(u'Client − Server (prediction), seconds')\n",
    "plt.axes().xaxis.set_major_formatter(matplotlib.dates.DateFormatter('%H:%M'))\n",
    "plt.grid(True)"
   ]
  },
  {
   "cell_type": "code",
   "execution_count": 20,
   "metadata": {
    "collapsed": false
   },
   "outputs": [
    {
     "data": {
      "text/plain": [
       "count    6864.0000\n",
       "mean       -0.0000\n",
       "std         0.0024\n",
       "min        -0.0036\n",
       "25%        -0.0013\n",
       "50%        -0.0003\n",
       "75%         0.0007\n",
       "max         0.0543\n",
       "dtype: object"
      ]
     },
     "execution_count": 20,
     "metadata": {},
     "output_type": "execute_result"
    }
   ],
   "source": [
    "fiterr.describe().apply(lambda x: '%.4f' % x)"
   ]
  },
  {
   "cell_type": "code",
   "execution_count": 21,
   "metadata": {
    "collapsed": false
   },
   "outputs": [
    {
     "data": {
      "image/png": "[encoded data removed]",
      "text/plain": [
       "<matplotlib.figure.Figure at 0x7f610069cd90>"
      ]
     },
     "metadata": {},
     "output_type": "display_data"
    }
   ],
   "source": [
    "pd.Series(fiterr).hist(bins=100)\n",
    "plt.xlabel(u'Client − Server (prediction), seconds')\n",
    "plt.ylabel('`reply` packets') ;"
   ]
  },
  {
   "cell_type": "markdown",
   "metadata": {},
   "source": [
    "As such, the difference between prediction and the actual wall clock is quite low. Given the assumption that the server TCP Timestamp ticks uniformly with 250 Hz frequency it means that RTT between the client and the server is quite stable, so RTT delay is *not* caused by bufferbloat due to RTT peaks at ~2s, ~3s, ~4s. Bufferbloat causing that large delay would produce much larger `fiterr` variance. This means that:\n",
    "\n",
    "* all the packets the client gets are usual TCP retransmissions bypassing the filter\n",
    "* no \"original transmissions\" bypass the filter\n",
    "\n",
    "The above analysis refutes the hypothesis of the throttling\n",
    "caused by Bufferbloat."
   ]
  }
 ],
 "metadata": {
  "kernelspec": {
   "display_name": "Python 2",
   "language": "python",
   "name": "python2"
  },
  "language_info": {
   "codemirror_mode": {
    "name": "ipython",
    "version": 2
   },
   "file_extension": ".py",
   "mimetype": "text/x-python",
   "name": "python",
   "nbconvert_exporter": "python",
   "pygments_lexer": "ipython2",
   "version": "2.7.11"
  }
 },
 "nbformat": 4,
 "nbformat_minor": 0
}
